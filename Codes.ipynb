{
 "cells": [
  {
   "cell_type": "code",
   "execution_count": 1,
   "metadata": {},
   "outputs": [
    {
     "name": "stdout",
     "output_type": "stream",
     "text": [
      "25 is a odd numbner\n"
     ]
    }
   ],
   "source": [
    "#Given number is a odd or even\n",
    "num = int(input(\"Enter the number : \"))\n",
    "if num > 0:\n",
    "    if num % 2 == 0:\n",
    "        print(num,\"is a even number\")\n",
    "    else:\n",
    "        print(num,\"is a odd numbner\")\n",
    "else:\n",
    "    print(num,\"is less than zero\")"
   ]
  },
  {
   "cell_type": "code",
   "execution_count": 2,
   "metadata": {},
   "outputs": [
    {
     "name": "stdout",
     "output_type": "stream",
     "text": [
      "9 is not a prime number\n"
     ]
    }
   ],
   "source": [
    "#Given number is prime or not\n",
    "num = int(input(\"Enter the number : \"))\n",
    "flag = False\n",
    "if num < 2:\n",
    "    print(\"Prime number are always greater one\")\n",
    "else :\n",
    "    for i in range(2,num):\n",
    "        if num % i == 0:\n",
    "            flag = True\n",
    "            break\n",
    "if flag:    \n",
    "    print(num,\"is not a prime number\")\n",
    "else :\n",
    "    print(num,\"is a prime number\")"
   ]
  },
  {
   "cell_type": "code",
   "execution_count": 3,
   "metadata": {},
   "outputs": [
    {
     "name": "stdout",
     "output_type": "stream",
     "text": [
      "123 is not a amstrong number\n"
     ]
    }
   ],
   "source": [
    "#Amstrong number is a number that is the sum of \n",
    "#its own digits raised to the power of the number of digits\n",
    "#example 9474\n",
    "num = int(input(\"Enter the number : \"))\n",
    "order  = len(str(num))\n",
    "sum = 0\n",
    "temp = num\n",
    "while temp > 0:\n",
    "    digits = temp % 10\n",
    "    sum = sum + digits ** order\n",
    "    temp = temp // 10\n",
    "if num == sum:\n",
    "    print(num,\"is a amstrong number\")\n",
    "else:\n",
    "    print(num,\"is not a amstrong number\")"
   ]
  },
  {
   "cell_type": "code",
   "execution_count": 5,
   "metadata": {},
   "outputs": [
    {
     "name": "stdout",
     "output_type": "stream",
     "text": [
      "121 is a palindrome\n"
     ]
    }
   ],
   "source": [
    "#Palindrome the reverse of a number is same then it is a palindrome\n",
    "num = int(input(\"Enter the number : \"))\n",
    "reverse = 0\n",
    "temp = num\n",
    "while temp > 0:\n",
    "    reaminder = temp % 10\n",
    "    reverse = (reverse * 10)+reaminder\n",
    "    temp = temp // 10\n",
    "if num == reverse:\n",
    "    print(num,\"is a palindrome\")\n",
    "else:\n",
    "    print(num,\"is not a palindrome\")"
   ]
  },
  {
   "cell_type": "code",
   "execution_count": 10,
   "metadata": {},
   "outputs": [
    {
     "name": "stdout",
     "output_type": "stream",
     "text": [
      "1\n",
      "2\n",
      "3\n",
      "5\n",
      "8\n",
      "13\n",
      "21\n",
      "34\n",
      "55\n"
     ]
    }
   ],
   "source": [
    "#Fibanoic series \n",
    "S = int(input(\"Enter a number : \"))\n",
    "n1 = 0\n",
    "n2 = 1 \n",
    "for i in range(2,S+1):\n",
    "    sum = n1 + n2\n",
    "    print(sum)\n",
    "    n1 = n2\n",
    "    n2 = sum"
   ]
  },
  {
   "cell_type": "code",
   "execution_count": 14,
   "metadata": {},
   "outputs": [
    {
     "name": "stdout",
     "output_type": "stream",
     "text": [
      "hello olleh are annagrams\n"
     ]
    }
   ],
   "source": [
    "#Annagram \n",
    "str1 = input(\"Enter the string1 : \")\n",
    "str2 = input(\"Enter the string2 : \")\n",
    "#make the strings in one order i.e lower() or upper()\n",
    "str1 = str1.lower()\n",
    "str2 = str2.lower()\n",
    "#sort the each letter \n",
    "string1 = sorted(str1)\n",
    "string2 = sorted(str2)\n",
    "if string1 == string2:\n",
    "    print(str1,str2,\"are annagrams\")\n",
    "else :\n",
    "    print(str1,str2,\"are not annagrams\") "
   ]
  },
  {
   "cell_type": "code",
   "execution_count": 22,
   "metadata": {},
   "outputs": [
    {
     "name": "stdout",
     "output_type": "stream",
     "text": [
      "Not valid\n"
     ]
    }
   ],
   "source": [
    "#Factorical\n",
    "num = int(input(\"Enter the number : \"))\n",
    "fact = 1\n",
    "if num < 0:\n",
    "    print(\"Not valid\")\n",
    "elif num == 0 or num == 1:\n",
    "    print(\"factorical is 1\")\n",
    "else:    \n",
    "    for i in range(1,num+1):\n",
    "        fact = fact * i\n",
    "    print(num,\"factorical is \",fact)"
   ]
  },
  {
   "cell_type": "code",
   "execution_count": 11,
   "metadata": {},
   "outputs": [
    {
     "data": {
      "text/plain": [
       "720"
      ]
     },
     "execution_count": 11,
     "metadata": {},
     "output_type": "execute_result"
    }
   ],
   "source": [
    "#Factorical using function\n",
    "num = int(input(\"Enter a number\"))\n",
    "def fact(a):\n",
    "    if a < 0:\n",
    "        return \"not valid\"\n",
    "    elif a == 0 or a == 1:\n",
    "        return 1\n",
    "    else:\n",
    "        return a*fact(a-1)\n",
    "fact(num)"
   ]
  },
  {
   "cell_type": "code",
   "execution_count": 24,
   "metadata": {},
   "outputs": [
    {
     "name": "stdout",
     "output_type": "stream",
     "text": [
      " * \n",
      "* * \n"
     ]
    }
   ],
   "source": [
    "#Triangle pattern\n",
    "s = int(input(\"Enter a length of trianle : \"))\n",
    "for i in range(1,s+1):\n",
    "    spaces = \" \"*(s-i)\n",
    "    stars = \"* \"*i\n",
    "    print(spaces + stars)"
   ]
  },
  {
   "cell_type": "code",
   "execution_count": 1,
   "metadata": {},
   "outputs": [
    {
     "name": "stdout",
     "output_type": "stream",
     "text": [
      "* \n",
      "* * \n",
      "* * * \n",
      "* * * * \n",
      "* * * * * \n"
     ]
    }
   ],
   "source": [
    "#Right angle triangle\n",
    "s = int(input(\"Enter the number length of triangle : \"))\n",
    "for i in range(1,s+1):\n",
    "    print(\"* \"*i)"
   ]
  },
  {
   "cell_type": "code",
   "execution_count": 6,
   "metadata": {},
   "outputs": [
    {
     "name": "stdout",
     "output_type": "stream",
     "text": [
      "   December 2023\n",
      "Mo Tu We Th Fr Sa Su\n",
      "             1  2  3\n",
      " 4  5  6  7  8  9 10\n",
      "11 12 13 14 15 16 17\n",
      "18 19 20 21 22 23 24\n",
      "25 26 27 28 29 30 31\n",
      "\n"
     ]
    }
   ],
   "source": [
    "import calendar\n",
    "Month = int(input(\"Enter the months (01 - 12) : \"))\n",
    "Year = int(input(\"Enter the year : \"))\n",
    "calendar_ = calendar.month(Year,Month)\n",
    "print(calendar_)"
   ]
  },
  {
   "cell_type": "code",
   "execution_count": 10,
   "metadata": {},
   "outputs": [
    {
     "name": "stdout",
     "output_type": "stream",
     "text": [
      "15 X 1 = 15\n",
      "15 X 2 = 30\n",
      "15 X 3 = 45\n",
      "15 X 4 = 60\n",
      "15 X 5 = 75\n",
      "15 X 6 = 90\n",
      "15 X 7 = 105\n",
      "15 X 8 = 120\n",
      "15 X 9 = 135\n",
      "15 X 10 = 150\n"
     ]
    }
   ],
   "source": [
    "Table = int(input(\"Enter the which table you want to print : \"))\n",
    "for i in range(1,11):\n",
    "    print(f\"{Table} X {i} = {Table * i}\")"
   ]
  },
  {
   "cell_type": "code",
   "execution_count": 1,
   "metadata": {},
   "outputs": [
    {
     "name": "stdout",
     "output_type": "stream",
     "text": [
      "Numbers befor swap 10 20\n",
      "After swap 20 10\n"
     ]
    }
   ],
   "source": [
    "#Swap of two numbers\n",
    "num1 = int(input(\"Enter a number : \"))\n",
    "num2 = int(input(\"Enter a number2 : \"))\n",
    "print(\"Numbers befor swap\",num1,num2)\n",
    "temp = num1\n",
    "num1 = num2\n",
    "num2 = temp\n",
    "print(\"After swap\",num1,num2)"
   ]
  },
  {
   "cell_type": "code",
   "execution_count": 2,
   "metadata": {},
   "outputs": [
    {
     "name": "stdout",
     "output_type": "stream",
     "text": [
      "The sum of 20 10 is 30\n"
     ]
    }
   ],
   "source": [
    "#Adding of two numbers\n",
    "#From above we can take the numbers\n",
    "sum = num1 + num2\n",
    "print(\"The sum of\",num1,num2,\"is\",sum)"
   ]
  },
  {
   "cell_type": "code",
   "execution_count": 16,
   "metadata": {},
   "outputs": [
    {
     "data": {
      "text/plain": [
       "[1, 9, 36, 49, 64, 81]"
      ]
     },
     "execution_count": 16,
     "metadata": {},
     "output_type": "execute_result"
    }
   ],
   "source": [
    "#Finding squares of list of numbers using list compression\n",
    "l = [1,3,6,7,8,9]\n",
    "[x**2 for x in l]"
   ]
  },
  {
   "cell_type": "code",
   "execution_count": 18,
   "metadata": {},
   "outputs": [
    {
     "data": {
      "text/plain": [
       "[1, 27, 343, 729]"
      ]
     },
     "execution_count": 18,
     "metadata": {},
     "output_type": "execute_result"
    }
   ],
   "source": [
    "#List comprenssion with if condition\n",
    "#same take above list if the element is odd print cube\n",
    "[x ** 3 for x in l if x%2 != 0 ]"
   ]
  },
  {
   "cell_type": "code",
   "execution_count": 20,
   "metadata": {},
   "outputs": [
    {
     "data": {
      "text/plain": [
       "[1, 27, 36, 343, 64, 729]"
      ]
     },
     "execution_count": 20,
     "metadata": {},
     "output_type": "execute_result"
    }
   ],
   "source": [
    "#List compression with both if and else conditions\n",
    "[x ** 2 if x % 2 == 0 else x ** 3 for x in l ]"
   ]
  },
  {
   "cell_type": "code",
   "execution_count": 12,
   "metadata": {},
   "outputs": [
    {
     "name": "stdout",
     "output_type": "stream",
     "text": [
      "[1, 2, 6, 4, 5]\n"
     ]
    }
   ],
   "source": [
    "#Difference b/w list and tuple\n",
    "a = [1,2,3,4,5]\n",
    "a[2] = 6\n",
    "print(a)\n",
    "b = tuple(a)\n",
    "#b[2] = 3 \n",
    "#lists are mutable but tuples are not mutable"
   ]
  },
  {
   "cell_type": "code",
   "execution_count": 6,
   "metadata": {},
   "outputs": [
    {
     "name": "stdout",
     "output_type": "stream",
     "text": [
      "9\n",
      "9\n"
     ]
    }
   ],
   "source": [
    "#power of number \n",
    "print(3 ** 2)\n",
    "print(pow(3,2))"
   ]
  },
  {
   "cell_type": "code",
   "execution_count": null,
   "metadata": {},
   "outputs": [],
   "source": []
  }
 ],
 "metadata": {
  "kernelspec": {
   "display_name": "base",
   "language": "python",
   "name": "python3"
  },
  "language_info": {
   "codemirror_mode": {
    "name": "ipython",
    "version": 3
   },
   "file_extension": ".py",
   "mimetype": "text/x-python",
   "name": "python",
   "nbconvert_exporter": "python",
   "pygments_lexer": "ipython3",
   "version": "3.11.4"
  }
 },
 "nbformat": 4,
 "nbformat_minor": 2
}

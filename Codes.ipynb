{
 "cells": [
  {
   "cell_type": "code",
   "execution_count": 1,
   "metadata": {},
   "outputs": [
    {
     "name": "stdout",
     "output_type": "stream",
     "text": [
      "25 is a odd numbner\n"
     ]
    }
   ],
   "source": [
    "#Given number is a odd or even\n",
    "num = int(input(\"Enter the number : \"))\n",
    "if num > 0:\n",
    "    if num % 2 == 0:\n",
    "        print(num,\"is a even number\")\n",
    "    else:\n",
    "        print(num,\"is a odd numbner\")\n",
    "else:\n",
    "    print(num,\"is less than zero\")"
   ]
  },
  {
   "cell_type": "code",
   "execution_count": 2,
   "metadata": {},
   "outputs": [
    {
     "name": "stdout",
     "output_type": "stream",
     "text": [
      "9 is not a prime number\n"
     ]
    }
   ],
   "source": [
    "#Given number is prime or not\n",
    "num = int(input(\"Enter the number : \"))\n",
    "flag = False\n",
    "if num < 2:\n",
    "    print(\"Prime number are always greater one\")\n",
    "else :\n",
    "    for i in range(2,num):\n",
    "        if num % i == 0:\n",
    "            flag = True\n",
    "            break\n",
    "if flag:    \n",
    "    print(num,\"is not a prime number\")\n",
    "else :\n",
    "    print(num,\"is a prime number\")"
   ]
  },
  {
   "cell_type": "code",
   "execution_count": 3,
   "metadata": {},
   "outputs": [
    {
     "name": "stdout",
     "output_type": "stream",
     "text": [
      "123 is not a amstrong number\n"
     ]
    }
   ],
   "source": [
    "#Amstrong number is a number that is the sum of \n",
    "#its own digits raised to the power of the number of digits\n",
    "#example 9474\n",
    "num = int(input(\"Enter the number : \"))\n",
    "order  = len(str(num))\n",
    "sum = 0\n",
    "temp = num\n",
    "while temp > 0:\n",
    "    digits = temp % 10\n",
    "    sum = sum + digits ** order\n",
    "    temp = temp // 10\n",
    "if num == sum:\n",
    "    print(num,\"is a amstrong number\")\n",
    "else:\n",
    "    print(num,\"is not a amstrong number\")"
   ]
  },
  {
   "cell_type": "code",
   "execution_count": 5,
   "metadata": {},
   "outputs": [
    {
     "name": "stdout",
     "output_type": "stream",
     "text": [
      "121 is a palindrome\n"
     ]
    }
   ],
   "source": [
    "#Palindrome the reverse of a number is same then it is a palindrome\n",
    "num = int(input(\"Enter the number : \"))\n",
    "reverse = 0\n",
    "temp = num\n",
    "while temp > 0:\n",
    "    reaminder = temp % 10\n",
    "    reverse = (reverse * 10)+reaminder\n",
    "    temp = temp // 10\n",
    "if num == reverse:\n",
    "    print(num,\"is a palindrome\")\n",
    "else:\n",
    "    print(num,\"is not a palindrome\")"
   ]
  },
  {
   "cell_type": "code",
   "execution_count": 10,
   "metadata": {},
   "outputs": [
    {
     "name": "stdout",
     "output_type": "stream",
     "text": [
      "1\n",
      "2\n",
      "3\n",
      "5\n",
      "8\n",
      "13\n",
      "21\n",
      "34\n",
      "55\n"
     ]
    }
   ],
   "source": [
    "#Fibanoic series \n",
    "S = int(input(\"Enter a number : \"))\n",
    "n1 = 0\n",
    "n2 = 1 \n",
    "for i in range(2,S+1):\n",
    "    sum = n1 + n2\n",
    "    print(sum)\n",
    "    n1 = n2\n",
    "    n2 = sum"
   ]
  },
  {
   "cell_type": "code",
   "execution_count": 14,
   "metadata": {},
   "outputs": [
    {
     "name": "stdout",
     "output_type": "stream",
     "text": [
      "hello olleh are annagrams\n"
     ]
    }
   ],
   "source": [
    "#Annagram \n",
    "str1 = input(\"Enter the string1 : \")\n",
    "str2 = input(\"Enter the string2 : \")\n",
    "#make the strings in one order i.e lower() or upper()\n",
    "str1 = str1.lower()\n",
    "str2 = str2.lower()\n",
    "#sort the each letter \n",
    "string1 = sorted(str1)\n",
    "string2 = sorted(str2)\n",
    "if string1 == string2:\n",
    "    print(str1,str2,\"are annagrams\")\n",
    "else :\n",
    "    print(str1,str2,\"are not annagrams\") "
   ]
  },
  {
   "cell_type": "code",
   "execution_count": 22,
   "metadata": {},
   "outputs": [
    {
     "name": "stdout",
     "output_type": "stream",
     "text": [
      "Not valid\n"
     ]
    }
   ],
   "source": [
    "#Factorical\n",
    "num = int(input(\"Enter the number : \"))\n",
    "fact = 1\n",
    "if num < 0:\n",
    "    print(\"Not valid\")\n",
    "elif num == 0 or num == 1:\n",
    "    print(\"factorical is 1\")\n",
    "else:    \n",
    "    for i in range(1,num+1):\n",
    "        fact = fact * i\n",
    "    print(num,\"factorical is \",fact)"
   ]
  },
  {
   "cell_type": "code",
   "execution_count": 24,
   "metadata": {},
   "outputs": [
    {
     "name": "stdout",
     "output_type": "stream",
     "text": [
      " * \n",
      "* * \n"
     ]
    }
   ],
   "source": [
    "#Triangle pattern\n",
    "s = int(input(\"Enter a number : \"))\n",
    "for i in range(1,s+1):\n",
    "    spaces = \" \"*(s-i)\n",
    "    stars = \"* \"*i\n",
    "    print(spaces + stars)"
   ]
  }
 ],
 "metadata": {
  "kernelspec": {
   "display_name": "base",
   "language": "python",
   "name": "python3"
  },
  "language_info": {
   "codemirror_mode": {
    "name": "ipython",
    "version": 3
   },
   "file_extension": ".py",
   "mimetype": "text/x-python",
   "name": "python",
   "nbconvert_exporter": "python",
   "pygments_lexer": "ipython3",
   "version": "3.11.4"
  }
 },
 "nbformat": 4,
 "nbformat_minor": 2
}
